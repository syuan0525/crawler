{
  "nbformat": 4,
  "nbformat_minor": 0,
  "metadata": {
    "colab": {
      "name": "crawler_base3.ipynb",
      "provenance": [],
      "authorship_tag": "ABX9TyPcgg0mZCC3ClixsVVqrW7B",
      "include_colab_link": true
    },
    "kernelspec": {
      "name": "python3",
      "display_name": "Python 3"
    },
    "language_info": {
      "name": "python"
    }
  },
  "cells": [
    {
      "cell_type": "markdown",
      "metadata": {
        "id": "view-in-github",
        "colab_type": "text"
      },
      "source": [
        "<a href=\"https://colab.research.google.com/github/syuan0525/crawler/blob/main/crawler_base3.ipynb\" target=\"_parent\"><img src=\"https://colab.research.google.com/assets/colab-badge.svg\" alt=\"Open In Colab\"/></a>"
      ]
    },
    {
      "cell_type": "code",
      "execution_count": 24,
      "metadata": {
        "id": "rpmecVf9aPJC"
      },
      "outputs": [],
      "source": [
        "import requests, codecs\n",
        "from bs4 import BeautifulSoup"
      ]
    },
    {
      "cell_type": "code",
      "source": [
        "url = requests.get(\"https://www.nownews.com/cat/breaking\")\n",
        "req = BeautifulSoup(url.text,\"html.parser\")\n",
        "data = req.find_all(\"h2\")\n",
        "for d in data:\n",
        "  print(d.text)\n",
        "  print(d.parent.find(\"p\",{\"class\":\"time\"}).text)\n",
        "  print(d.parent.find(\"p\").text)            #parent : 取得當前標籤的上層標籤(包覆當前標籤的標籤)\n",
        "  print(\"===========================================\")"
      ],
      "metadata": {
        "colab": {
          "base_uri": "https://localhost:8080/"
        },
        "id": "qDDvriWcczMJ",
        "outputId": "ac3132b0-ed2c-48f0-ba72-9ff3af33c7c0"
      },
      "execution_count": 10,
      "outputs": [
        {
          "output_type": "stream",
          "name": "stdout",
          "text": [
            "橘貓上廁所！離開後便盆竟出現一黑影　網笑翻：跪求陰影\n",
            "2022-01-17 21:09\n",
            "還講不講武德啊？國外一名女子家中養了兩隻貓咪，平時都會在影音平台分享兩隻愛貓的生活日常。日前她分享了一段兩隻貓咪的影片在短短5天內就吸引超過760萬人次觀看，許多網友看了影片後都笑說：「跪求貓咪陰影」...\n",
            "===========================================\n",
            "尋獲失事F-16V黑盒子　空軍：送交專業鑑定釐清肇事原因\n",
            "2022-01-17 20:54\n",
            "嘉義空軍基地第四聯隊編號6650的F-16V戰機在11日失事墜海，造成飛官陳奕上尉殉職，空軍司令部今（17）日晚間表示，已尋獲失事F-16V戰機的黑盒子，將送交專業鑑定，釐清肇事原因。空軍司令部晚間表...\n",
            "===========================================\n",
            "陳美鳳遭酸整過頭　曬剛出道「零修圖」美照反擊\n",
            "2022-01-17 20:49\n",
            "「全台灣最美麗歐巴桑」的65歲女星陳美鳳出道45年，多年來保持苗條身材和緊緻肌膚，她日前在臉書上分享一張正在梳妝打扮的照片，卻被粉絲說撞臉楊繡惠，還有網友留言調侃「同一個醫師」，對此陳美鳳相當走心，今...\n",
            "===========================================\n",
            "PLG／林冠綸並非威脅　攻城獅虛心接受自主罰款1萬元\n",
            "2022-01-17 20:40\n",
            "新竹街口攻城獅於1月15日出戰台新夢想家，針對聯盟賽後判罰，攻城獅球團正式發表以下五點聲明。1. 第二節剩7分鐘時，林冠綸總教練確實因不滿裁判判決於賽事過程中發表情緒性言論。2. 第三節剩5分21秒時...\n",
            "===========================================\n",
            "北中南動員！雲林地檢署查獲偽農藥　市價逾1億元\n",
            "2022-01-17 20:30\n",
            "（中央社記者姜宜菁雲林縣17日電）防檢局去年發現雲林縣謝姓父子申報進口的氯化三苯錫部分去向不明，雲檢溯源確認謝姓父子等13人違反農藥管理法，查扣市價逾1億元偽農藥，訊後以1萬到30萬元不等金額交保。農...\n",
            "===========================================\n"
          ]
        }
      ]
    },
    {
      "cell_type": "code",
      "source": [
        "fn = 0\n",
        "for i in range(1,5,1):\n",
        "  url = requests.get(\n",
        "      f\"https://www.cdc.gov.tw/Bulletin/List/MmgtpeidAR5Ooai4-fgHzQ?page={i}\"\n",
        "      # parmas = {\n",
        "      #     \"page\": i\n",
        "      # }      \n",
        "  )\n",
        "  req = BeautifulSoup(url.text,\"html.parser\")\n",
        "  data = req.find_all(\"div\",{\"class\":\"content-boxes-v3\"})\n",
        "  for d in data:\n",
        "    # print(d.find(\"p\",{\"class\":\"icon-year\"}).text,\"-\",d.find(\"p\",{\"class\":\"icon-date\"}).text)\n",
        "    # print(d.find(\"p\",{\"class\":\"JQdotdotdot\"}).text)\n",
        "    url2 = requests.get(\"https://www.cdc.gov.tw\"+d.find(\"a\").attrs[\"href\"])\n",
        "    req2 = BeautifulSoup(url2.text,\"html.parser\")\n",
        "    fn += 1\n",
        "    with codecs.open(\"news/\"+str(fn)+\".txt\",\"w\",url2.encoding) as f:\n",
        "      f.write(d.find(\"p\",{\"class\":\"JQdotdotdot\"}).text + \"\\r\\n\")\n",
        "      f.write(req2.find(\"div\",{\"class\":\"text-right\"}).parent.text.strip(\" \\r\\n\\t\"))  #去除空白換行"
      ],
      "metadata": {
        "id": "aMEZDVmticKp"
      },
      "execution_count": 34,
      "outputs": []
    }
  ]
}