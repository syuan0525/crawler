{
  "nbformat": 4,
  "nbformat_minor": 0,
  "metadata": {
    "colab": {
      "name": "crawler_base3.ipynb",
      "provenance": [],
      "authorship_tag": "ABX9TyN6QG00ZW/u1O7eu93Nctwm",
      "include_colab_link": true
    },
    "kernelspec": {
      "name": "python3",
      "display_name": "Python 3"
    },
    "language_info": {
      "name": "python"
    }
  },
  "cells": [
    {
      "cell_type": "markdown",
      "metadata": {
        "id": "view-in-github",
        "colab_type": "text"
      },
      "source": [
        "<a href=\"https://colab.research.google.com/github/syuan0525/crawler/blob/main/crawler_base3.ipynb\" target=\"_parent\"><img src=\"https://colab.research.google.com/assets/colab-badge.svg\" alt=\"Open In Colab\"/></a>"
      ]
    },
    {
      "cell_type": "code",
      "execution_count": 1,
      "metadata": {
        "id": "rpmecVf9aPJC"
      },
      "outputs": [],
      "source": [
        "import requests, codecs\n",
        "from bs4 import BeautifulSoup"
      ]
    },
    {
      "cell_type": "code",
      "source": [
        "url = requests.get(\"https://www.nownews.com/cat/breaking\")\n",
        "req = BeautifulSoup(url.text,\"html.parser\")\n",
        "data = req.find_all(\"h2\")\n",
        "for d in data:\n",
        "  print(d.text)\n",
        "  print(d.parent.find(\"p\",{\"class\":\"time\"}).text)\n",
        "  print(d.parent.find(\"p\").text)            #parent : 取得當前標籤的上層標籤(包覆當前標籤的標籤)\n",
        "  print(\"===========================================\")"
      ],
      "metadata": {
        "colab": {
          "base_uri": "https://localhost:8080/"
        },
        "id": "qDDvriWcczMJ",
        "outputId": "c9e3c966-646c-417f-d29c-e20733280c4f"
      },
      "execution_count": 2,
      "outputs": [
        {
          "output_type": "stream",
          "name": "stdout",
          "text": [
            "感染Omicron超像感冒！指揮中心整理「4大明顯症狀」\n",
            "2022-01-22 21:07\n",
            "22日下午，中央流行疫情指揮中心公布新增82名本土確診個案，醫療應變組副組長羅一鈞表示，由於感染Omicron的症狀「非常像感冒」，甚至部分是「無症狀」，以至於很多人經常忽略身體狀況，對此，指揮中心也...\n",
            "===========================================\n",
            "T1／被中信快攻跑出29分　王志群：就是第一線沒壓下來\n",
            "2022-01-22 21:06\n",
            "桃園雲豹今日以104:126慘輸給新北中信特攻，吞下近期7連敗，同時戰績1勝9敗也在聯盟墊底。賽後主帥王志群也說出重話，直言「防守很爛」，無論是洋將還是本土球員都有所不足，必須要再加強。今天雲豹防守荒...\n",
            "===========================================\n",
            "T1／「早哥」厄力成中信推進器　光總：他可從1號打到5號\n",
            "2022-01-22 20:42\n",
            "新北中信特攻近期狀態絕佳，今日以125:104擊敗桃園雲豹之後，目前獨居聯盟第二，僅次於高雄全家海神。這段期間洋將厄力的精采表現可說是居功厥偉，對此總教練李逸驊也稱讚他攻守全能，而且可以支援多個位置，...\n",
            "===========================================\n",
            "圓山飯店女廚師染疫！昨出現咳嗽症狀　採檢陽性、Ct值13\n",
            "2022-01-22 20:18\n",
            "22日晚間，圓山飯店傳出一名西點廚師確診，業者獲報後已緊急進行清消，北市衛生局也立即進行疫調跟匡列。對此，中央流行疫情指揮中心證實，檢驗出一名本土確診個案，目前暫未編號，該確診者為一名本國籍20多歲女...\n",
            "===========================================\n",
            "素還真現身大甲鎮瀾宮祈福　媽祖、虎爺進戲院捧場\n",
            "2022-01-22 20:17\n",
            "昨（21）日晚間《素還真》舉辦電影包場，霹靂布袋戲邀請到來自不同宮廟的2尊媽祖及1尊虎爺到場，和信徒及觀眾們一起用大銀幕觀賞電影，素還真更親自現身接待，而受邀的幸運觀眾看見媽祖與虎爺都感到十分驚喜，紛...\n",
            "===========================================\n"
          ]
        }
      ]
    },
    {
      "cell_type": "code",
      "source": [
        "fn = 0\n",
        "for i in range(1,5,1):\n",
        "  url = requests.get(\n",
        "      f\"https://www.cdc.gov.tw/Bulletin/List/MmgtpeidAR5Ooai4-fgHzQ?page={i}\"\n",
        "      # parmas = {\n",
        "      #     \"page\": i\n",
        "      # }      \n",
        "  )\n",
        "  req = BeautifulSoup(url.text,\"html.parser\")\n",
        "  data = req.find_all(\"div\",{\"class\":\"content-boxes-v3\"})\n",
        "  for d in data:\n",
        "    # print(d.find(\"p\",{\"class\":\"icon-year\"}).text,\"-\",d.find(\"p\",{\"class\":\"icon-date\"}).text)\n",
        "    # print(d.find(\"p\",{\"class\":\"JQdotdotdot\"}).text)\n",
        "    url2 = requests.get(\"https://www.cdc.gov.tw\"+d.find(\"a\").attrs[\"href\"])      #attrs : 取得標籤中全部的屬性\n",
        "    req2 = BeautifulSoup(url2.text,\"html.parser\")\n",
        "    fn += 1\n",
        "    with codecs.open(\"news/\"+str(fn)+\".txt\",\"w\",url2.encoding) as f:\n",
        "      f.write(d.find(\"p\",{\"class\":\"JQdotdotdot\"}).text + \"\\r\\n\")\n",
        "      f.write(req2.find(\"div\",{\"class\":\"text-right\"}).parent.text.strip(\" \\r\\n\\t\"))  #去除空白換行"
      ],
      "metadata": {
        "id": "aMEZDVmticKp"
      },
      "execution_count": 3,
      "outputs": []
    },
    {
      "cell_type": "code",
      "source": [
        "!zip -r news.zip news 壓縮"
      ],
      "metadata": {
        "colab": {
          "base_uri": "https://localhost:8080/"
        },
        "id": "r-Ql6Gq4Jnso",
        "outputId": "7eec46f9-625c-4304-c79c-6a65b471e330"
      },
      "execution_count": 4,
      "outputs": [
        {
          "output_type": "stream",
          "name": "stdout",
          "text": [
            "\tzip warning: name not matched: 壓縮\n",
            "  adding: news/ (stored 0%)\n",
            "  adding: news/11.txt (deflated 45%)\n",
            "  adding: news/31.txt (deflated 45%)\n",
            "  adding: news/22.txt (deflated 44%)\n",
            "  adding: news/7.txt (deflated 44%)\n",
            "  adding: news/29.txt (deflated 45%)\n",
            "  adding: news/32.txt (deflated 47%)\n",
            "  adding: news/17.txt (deflated 45%)\n",
            "  adding: news/3.txt (deflated 51%)\n",
            "  adding: news/40.txt (deflated 45%)\n",
            "  adding: news/27.txt (deflated 40%)\n",
            "  adding: news/19.txt (deflated 37%)\n",
            "  adding: news/38.txt (deflated 42%)\n",
            "  adding: news/30.txt (deflated 46%)\n",
            "  adding: news/16.txt (deflated 53%)\n",
            "  adding: news/37.txt (deflated 41%)\n",
            "  adding: news/18.txt (deflated 40%)\n",
            "  adding: news/4.txt (deflated 47%)\n",
            "  adding: news/35.txt (deflated 43%)\n",
            "  adding: news/2.txt (deflated 45%)\n",
            "  adding: news/39.txt (deflated 46%)\n",
            "  adding: news/10.txt (deflated 45%)\n",
            "  adding: news/13.txt (deflated 45%)\n",
            "  adding: news/33.txt (deflated 47%)\n",
            "  adding: news/26.txt (deflated 46%)\n",
            "  adding: news/25.txt (deflated 55%)\n",
            "  adding: news/1.txt (deflated 45%)\n",
            "  adding: news/28.txt (deflated 43%)\n",
            "  adding: news/36.txt (deflated 45%)\n",
            "  adding: news/21.txt (deflated 45%)\n",
            "  adding: news/5.txt (deflated 47%)\n",
            "  adding: news/8.txt (deflated 44%)\n",
            "  adding: news/20.txt (deflated 44%)\n",
            "  adding: news/15.txt (deflated 45%)\n",
            "  adding: news/23.txt (deflated 36%)\n",
            "  adding: news/6.txt (deflated 46%)\n",
            "  adding: news/14.txt (deflated 45%)\n",
            "  adding: news/9.txt (deflated 45%)\n",
            "  adding: news/24.txt (deflated 44%)\n",
            "  adding: news/12.txt (deflated 56%)\n",
            "  adding: news/34.txt (deflated 51%)\n"
          ]
        }
      ]
    }
  ]
}