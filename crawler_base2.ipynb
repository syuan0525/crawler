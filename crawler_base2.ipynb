{
  "nbformat": 4,
  "nbformat_minor": 0,
  "metadata": {
    "colab": {
      "name": "crawler_base2.ipynb",
      "provenance": [],
      "authorship_tag": "ABX9TyPuPUrhXuNiDYrp/6Xoz6Mo",
      "include_colab_link": true
    },
    "kernelspec": {
      "name": "python3",
      "display_name": "Python 3"
    },
    "language_info": {
      "name": "python"
    }
  },
  "cells": [
    {
      "cell_type": "markdown",
      "metadata": {
        "id": "view-in-github",
        "colab_type": "text"
      },
      "source": [
        "<a href=\"https://colab.research.google.com/github/syuan0525/crawler/blob/main/crawler_base2.ipynb\" target=\"_parent\"><img src=\"https://colab.research.google.com/assets/colab-badge.svg\" alt=\"Open In Colab\"/></a>"
      ]
    },
    {
      "cell_type": "code",
      "execution_count": 1,
      "metadata": {
        "id": "4X0NMXD-j4N1"
      },
      "outputs": [],
      "source": [
        "import requests, json"
      ]
    },
    {
      "cell_type": "code",
      "source": [
        "url = requests.get(\n",
        "    \"https://www.twse.com.tw/rsrc/data/zh/home/values.json\",\n",
        "    params = {\n",
        "        \"_\" : \"1642077639362\"\n",
        "    }\n",
        ")\n",
        "data = json.loads(url.text)\n",
        "for d in data[\"ranking\"][\"value\"]:\n",
        "  print(d[\"NAME\"],d[\"NO\"],d[\"AMOUNT\"])"
      ],
      "metadata": {
        "colab": {
          "base_uri": "https://localhost:8080/"
        },
        "id": "Nz9GcuPndkLQ",
        "outputId": "9fb0d30c-8691-48d8-8855-49cbc8e43092"
      },
      "execution_count": 7,
      "outputs": [
        {
          "output_type": "stream",
          "name": "stdout",
          "text": [
            "台積電 2330 258.13\n",
            "長榮 2603 121.55\n",
            "聯電 2303 73.08\n",
            "新光金 2888 68.3\n",
            "國泰金 2882 67.27\n",
            "聯發科 2454 55.75\n",
            "智原 3035 55.75\n",
            "萬海 2615 51.91\n",
            "陽明 2609 51.23\n",
            "欣興 3037 48.86\n",
            "富采 3714 44.98\n",
            "富邦金 2881 44.09\n",
            "宅配通 2642 43.74\n",
            "宏達電 2498 34.68\n",
            "中信金 2891 34.55\n",
            "東森 2614 33.19\n",
            "華航 2610 31.57\n",
            "開發金 2883 30.43\n",
            "辛耘 3583 29.72\n",
            "南茂 8150 27.98\n"
          ]
        }
      ]
    },
    {
      "cell_type": "code",
      "source": [
        "import time\n",
        "\n",
        "url = requests.get(\n",
        "    \"https://mis.twse.com.tw/stock/api/getStockInfo.jsp\",\n",
        "    params = {\n",
        "        \"ex_ch\" : \"tse_2330.tw\",\n",
        "        \"json\" : \"1\",\n",
        "        \"delay\" : \"0\",\n",
        "        \"_\" : time.time()\n",
        "    }    \n",
        ")\n",
        "data = json.loads(url.text)\n",
        "high = data[\"msgArray\"][0][\"a\"].split(\"_\")\n",
        "low = data[\"msgArray\"][0][\"b\"].split(\"_\")\n",
        "\n",
        "high.reverse()\n",
        "\n",
        "for d in high[1:]:\n",
        "  print(d)\n",
        "print(\"---------------------------\")\n",
        "for d in low[:-1]:\n",
        "  print(d)"
      ],
      "metadata": {
        "colab": {
          "base_uri": "https://localhost:8080/"
        },
        "id": "dU8ss6DHi0nU",
        "outputId": "999ee4cc-27af-40b7-b981-2018f5b6bab6"
      },
      "execution_count": 42,
      "outputs": [
        {
          "output_type": "stream",
          "name": "stdout",
          "text": [
            "665.0000\n",
            "664.0000\n",
            "663.0000\n",
            "662.0000\n",
            "661.0000\n",
            "---------------------------\n",
            "660.0000\n",
            "659.0000\n",
            "658.0000\n",
            "657.0000\n",
            "656.0000\n"
          ]
        }
      ]
    }
  ]
}