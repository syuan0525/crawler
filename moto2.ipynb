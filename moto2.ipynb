{
  "nbformat": 4,
  "nbformat_minor": 0,
  "metadata": {
    "colab": {
      "name": "Untitled1.ipynb",
      "provenance": [],
      "authorship_tag": "ABX9TyPXQha8bPPgcnsXM2tKe9oj",
      "include_colab_link": true
    },
    "kernelspec": {
      "name": "python3",
      "display_name": "Python 3"
    },
    "language_info": {
      "name": "python"
    }
  },
  "cells": [
    {
      "cell_type": "markdown",
      "metadata": {
        "id": "view-in-github",
        "colab_type": "text"
      },
      "source": [
        "<a href=\"https://colab.research.google.com/github/syuan0525/crawler/blob/main/moto2.ipynb\" target=\"_parent\"><img src=\"https://colab.research.google.com/assets/colab-badge.svg\" alt=\"Open In Colab\"/></a>"
      ]
    },
    {
      "cell_type": "code",
      "metadata": {
        "id": "a1qhKk8zsJWL"
      },
      "source": [
        "from urllib.request import urlopen, Request, urlretrieve\n",
        "from bs4 import BeautifulSoup\n",
        "from urllib.error import HTTPError\n",
        "import pandas as pd"
      ],
      "execution_count": 12,
      "outputs": []
    },
    {
      "cell_type": "code",
      "metadata": {
        "id": "IvdnRF0SqSkZ"
      },
      "source": [
        "url = \"https://auto.8891.com.tw/search-usedauto.html?action=moto&b=1097&k=1944&firstRow=0&totalRows=229\"\n",
        "req = Request(url,headers={\n",
        "    \"user-agent\" : \"Mozilla/5.0 (Windows NT 10.0; Win64; x64) AppleWebKit/537.36 (KHTML, like Gecko) Chrome/94.0.4606.81 Safari/537.36\"\n",
        "  })\n",
        "response = urlopen(req)\n",
        "html = BeautifulSoup(response)"
      ],
      "execution_count": 13,
      "outputs": []
    },
    {
      "cell_type": "code",
      "metadata": {
        "id": "ebG-PIbWqdeS"
      },
      "source": [
        "html.find(\"div\",class_ = \"ItemListDivBox\")\n",
        "for i in html.find_all(\"div\",class_=\"scb-item\"):\n",
        "  urlnow = i.find(\"a\")[\"href\"]\n",
        "  # print(urlnow)\n",
        "  url = \"https://auto.8891.com.tw\" + urlnow\n",
        "  req = Request(url,headers={\n",
        "    \"user-agent\" : \"Mozilla/5.0 (Windows NT 10.0; Win64; x64) AppleWebKit/537.36 (KHTML, like Gecko) Chrome/94.0.4606.81 Safari/537.36\"\n",
        "  })\n",
        "  response = urlopen(req)\n",
        "  html = BeautifulSoup(response)\n",
        "  year = html.find(\"div\",class_=\"mb-info-box\").find_all(\"dd\",class_=\"value\")[1].text\n",
        "  price = html.find(\"div\",class_=\"mb-info-box\").find_all(\"dd\",class_=\"value\")[5].text\n",
        "  distance = html.find(\"div\",class_=\"detail_content\").find(\"ul\",class_=\"auto_standard\").find(\"li\").find(\"span\").text   \n",
        "  print(year)\n",
        "  print(price)\n",
        "  print(distance)\n",
        "print(\"=======================================\")\n",
        "for i in html.find_all(\"li\",class_=\"ItemTitle\"):\n",
        "  urlold = i.find(\"a\")[\"href\"]\n",
        "  print(urlold)\n",
        "  url = \"https://auto.8891.com.tw\" + urlold\n",
        "  req = Request(url,headers={\n",
        "    \"user-agent\" : \"Mozilla/5.0 (Windows NT 10.0; Win64; x64) AppleWebKit/537.36 (KHTML, like Gecko) Chrome/94.0.4606.81 Safari/537.36\"\n",
        "  })\n",
        "  response = urlopen(req)\n",
        "  html = BeautifulSoup(response)\n",
        "  year = html.find(\"div\",class_=\"mb-info-box\").find_all(\"dd\",class_=\"value\")[1].text\n",
        "  price = html.find(\"div\",class_=\"mb-info-box\").find_all(\"dd\",class_=\"value\")[5].text\n",
        "  distance = html.find(\"div\",class_=\"detail_content\").find(\"ul\",class_=\"auto_standard\").find(\"li\").find(\"span\").text   \n",
        "  print(year)\n",
        "  print(price)\n",
        "  print(distance)"
      ],
      "execution_count": null,
      "outputs": []
    },
    {
      "cell_type": "code",
      "metadata": {
        "id": "ANMS7mlwvh_7"
      },
      "source": [
        " \n",
        " url = \"https://auto.8891.com.tw/\" + s\n",
        "  req = Request(url,headers={\n",
        "    \"user-agent\" : \"Mozilla/5.0 (Windows NT 10.0; Win64; x64) AppleWebKit/537.36 (KHTML, like Gecko) Chrome/94.0.4606.81 Safari/537.36\"\n",
        "  })\n",
        "  response = urlopen(req)\n",
        "  html = BeautifulSoup(response)"
      ],
      "execution_count": null,
      "outputs": []
    }
  ]
}