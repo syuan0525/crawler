{
  "nbformat": 4,
  "nbformat_minor": 0,
  "metadata": {
    "colab": {
      "name": "Untitled0.ipynb",
      "provenance": [],
      "authorship_tag": "ABX9TyMOPpQLDcbU5VeXL/lpHgx7",
      "include_colab_link": true
    },
    "kernelspec": {
      "name": "python3",
      "display_name": "Python 3"
    },
    "language_info": {
      "name": "python"
    }
  },
  "cells": [
    {
      "cell_type": "markdown",
      "metadata": {
        "id": "view-in-github",
        "colab_type": "text"
      },
      "source": [
        "<a href=\"https://colab.research.google.com/github/syuan0525/crawler/blob/main/Untitled0.ipynb\" target=\"_parent\"><img src=\"https://colab.research.google.com/assets/colab-badge.svg\" alt=\"Open In Colab\"/></a>"
      ]
    },
    {
      "cell_type": "code",
      "metadata": {
        "id": "PGXHIpbAa7zP"
      },
      "source": [
        "from urllib.request import urlopen, Request, urlretrieve\n",
        "from bs4 import BeautifulSoup\n",
        "from urllib.error import HTTPError\n",
        "import pandas as pd"
      ],
      "execution_count": 161,
      "outputs": []
    },
    {
      "cell_type": "code",
      "metadata": {
        "id": "YMsh9fzQQBJk"
      },
      "source": [
        "df = pd.DataFrame(columns=[\"標題\",\"出廠年份\",\"里程\",\"二手價\"])"
      ],
      "execution_count": 162,
      "outputs": []
    },
    {
      "cell_type": "code",
      "metadata": {
        "id": "Uk3Q1AT1br_B"
      },
      "source": [
        "url = \"https://auto.8891.com.tw/search-usedauto.html?action=moto&b=1097&k=1944&firstRow=0&totalRows=229\"\n",
        "req = Request(url,headers={\n",
        "    \"user-agent\" : \"Mozilla/5.0 (Windows NT 10.0; Win64; x64) AppleWebKit/537.36 (KHTML, like Gecko) Chrome/94.0.4606.81 Safari/537.36\"\n",
        "  })\n",
        "response = urlopen(req)\n",
        "html = BeautifulSoup(response)"
      ],
      "execution_count": 163,
      "outputs": []
    },
    {
      "cell_type": "code",
      "metadata": {
        "id": "qxxFO8YmgR9T"
      },
      "source": [
        "#在現車輛\n",
        "for i in html.find_all(\"div\",class_ = \"text-box\"):\n",
        "  s = i.find(\"a\")[\"href\"]\n",
        "  # print(s)\n",
        "  url = \"https://auto.8891.com.tw/\" + s\n",
        "  req = Request(url,headers={\n",
        "    \"user-agent\" : \"Mozilla/5.0 (Windows NT 10.0; Win64; x64) AppleWebKit/537.36 (KHTML, like Gecko) Chrome/94.0.4606.81 Safari/537.36\"\n",
        "  })\n",
        "  response = urlopen(req)\n",
        "  html = BeautifulSoup(response)\n",
        "  title = html.find(\"h1\",class_=\"mb-hd\").text\n",
        "  year = html.find(\"div\",class_=\"mb-info-box\").find_all(\"dd\",class_=\"value\")[1].text\n",
        "  price = html.find(\"div\",class_=\"mb-info-box\").find_all(\"dd\",class_=\"value\")[5].text\n",
        "  distance = html.find(\"div\",class_=\"detail_content\").find(\"ul\",class_=\"auto_standard\").find(\"li\").find(\"span\").text\n",
        "  print(title)\n",
        "  print(year)\n",
        "  print(price)\n",
        "  print(distance)\n",
        "  s = pd.Series([title,year,price,distance],index=[\"標題\",\"出廠年份\",\"里程\",\"二手價\"])\n",
        "  df = df.append(s,ignore_index=True) "
      ],
      "execution_count": null,
      "outputs": []
    },
    {
      "cell_type": "code",
      "metadata": {
        "id": "byQr6bWEz6Kc"
      },
      "source": [
        "url = \"https://auto.8891.com.tw/search-usedauto.html?action=moto&b=1097&k=1944&firstRow=0&totalRows=229\"\n",
        "req = Request(url,headers={\n",
        "    \"user-agent\" : \"Mozilla/5.0 (Windows NT 10.0; Win64; x64) AppleWebKit/537.36 (KHTML, like Gecko) Chrome/94.0.4606.81 Safari/537.36\"\n",
        "  })\n",
        "response = urlopen(req)\n",
        "html = BeautifulSoup(response)"
      ],
      "execution_count": null,
      "outputs": []
    },
    {
      "cell_type": "code",
      "metadata": {
        "id": "y_fqDDG_jaP2"
      },
      "source": [
        "for i in html.find_all(\"li\",class_=\"ItemTitle\"):  \n",
        "  url = i.find(\"a\")[\"href\"]\n",
        "  # print(s)\n",
        "  url = \"https://auto.8891.com.tw\" + url\n",
        "  req = Request(url,headers={\n",
        "    \"user-agent\" : \"Mozilla/5.0 (Windows NT 10.0; Win64; x64) AppleWebKit/537.36 (KHTML, like Gecko) Chrome/94.0.4606.81 Safari/537.36\"\n",
        "  })\n",
        "  response = urlopen(req)\n",
        "  html = BeautifulSoup(response)\n",
        "  title = html.find(\"h1\",class_=\"mb-hd\").text.replace(\\n,\"\")\n",
        "  year = html.find(\"div\",class_=\"mb-info-box\").find_all(\"dd\",class_=\"value\")[1].text.replace(\\n,\"\")\n",
        "  price = html.find(\"div\",class_=\"mb-info-box\").find_all(\"dd\",class_=\"value\")[5].text.replace(\\n,\"\")\n",
        "  distance = html.find(\"div\",class_=\"detail_content\").find(\"ul\",class_=\"auto_standard\").find(\"li\").find(\"span\").text.replace(\\n,\"\")\n",
        "  print(title)   \n",
        "  print(year)\n",
        "  print(price)\n",
        "  print(distance)\n",
        "  s = pd.Series([title,year,price,distance],index=[\"標題\",\"出廠年份\",\"里程\",\"二手價\"])\n",
        "  df = df.append(s,ignore_index=True) "
      ],
      "execution_count": null,
      "outputs": []
    },
    {
      "cell_type": "code",
      "metadata": {
        "id": "Lu0MkQvHRXBH"
      },
      "source": [
        "df"
      ],
      "execution_count": null,
      "outputs": []
    }
  ]
}