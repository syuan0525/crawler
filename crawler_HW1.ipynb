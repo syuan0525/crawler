{
  "nbformat": 4,
  "nbformat_minor": 0,
  "metadata": {
    "colab": {
      "name": "crawler_HW1.ipynb",
      "provenance": [],
      "authorship_tag": "ABX9TyOOteKZmorbwb5bacvG6Koe",
      "include_colab_link": true
    },
    "kernelspec": {
      "name": "python3",
      "display_name": "Python 3"
    },
    "language_info": {
      "name": "python"
    }
  },
  "cells": [
    {
      "cell_type": "markdown",
      "metadata": {
        "id": "view-in-github",
        "colab_type": "text"
      },
      "source": [
        "<a href=\"https://colab.research.google.com/github/syuan0525/crawler/blob/main/crawler_HW1.ipynb\" target=\"_parent\"><img src=\"https://colab.research.google.com/assets/colab-badge.svg\" alt=\"Open In Colab\"/></a>"
      ]
    },
    {
      "cell_type": "code",
      "source": [
        "import requests"
      ],
      "metadata": {
        "id": "LHn6_z1603as"
      },
      "execution_count": 1,
      "outputs": []
    },
    {
      "cell_type": "code",
      "execution_count": 12,
      "metadata": {
        "colab": {
          "base_uri": "https://localhost:8080/",
          "height": 35
        },
        "id": "R6zZOLw00yEu",
        "outputId": "b36abcfc-d4b0-4868-86e8-6d36209ef566"
      },
      "outputs": [
        {
          "output_type": "execute_result",
          "data": {
            "application/vnd.google.colaboratory.intrinsic+json": {
              "type": "string"
            },
            "text/plain": [
              "'哈哈，答對了，請把操作過程中的所有指令保留在程式碼中，將檔案繳交上來。'"
            ]
          },
          "metadata": {},
          "execution_count": 12
        }
      ],
      "source": [
        "url = requests.post(\n",
        "    \"http://teaching.bo-yuan.net/test/requests/\",\n",
        "    params = {\n",
        "        \"action\" : \" \"\n",
        "    },\n",
        "    data = {\n",
        "        \"id\" : \" \",\n",
        "        \"name\" : \" \",\n",
        "        \"address\" : \" \"\n",
        "    }\n",
        ")\n",
        "url.text"
      ]
    }
  ]
}