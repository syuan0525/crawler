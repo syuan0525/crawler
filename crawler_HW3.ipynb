{
  "nbformat": 4,
  "nbformat_minor": 0,
  "metadata": {
    "colab": {
      "name": "crawler_HW3.ipynb",
      "provenance": [],
      "authorship_tag": "ABX9TyPvfyuGdFUgG0xWnVeYNuiX",
      "include_colab_link": true
    },
    "kernelspec": {
      "name": "python3",
      "display_name": "Python 3"
    },
    "language_info": {
      "name": "python"
    }
  },
  "cells": [
    {
      "cell_type": "markdown",
      "metadata": {
        "id": "view-in-github",
        "colab_type": "text"
      },
      "source": [
        "<a href=\"https://colab.research.google.com/github/syuan0525/crawler/blob/main/crawler_HW3.ipynb\" target=\"_parent\"><img src=\"https://colab.research.google.com/assets/colab-badge.svg\" alt=\"Open In Colab\"/></a>"
      ]
    },
    {
      "cell_type": "code",
      "source": [
        "import requests, codecs\n",
        "from bs4 import BeautifulSoup"
      ],
      "metadata": {
        "id": "TXhTgIYvL2BF"
      },
      "execution_count": 1,
      "outputs": []
    },
    {
      "cell_type": "code",
      "execution_count": 14,
      "metadata": {
        "colab": {
          "base_uri": "https://localhost:8080/"
        },
        "id": "71ZMiq_0Lk8a",
        "outputId": "a6f340f2-7a32-49ad-9df7-94f5696ecb14"
      },
      "outputs": [
        {
          "output_type": "execute_result",
          "data": {
            "text/plain": [
              "[<tr data-subtitle=\"今日各縣市高溫測站資料\" data-timefrom=\"2022/01/22 00:00\" data-timeto=\"2022/01/22 22:46\" data-updatetime=\"2022/01/22 22:53:24\"><th scope=\"row\">基隆市</th><td class=\"is_show\" style=\"text-align:center;padding-right:20px\"><span class=\"tem-C is-active\">20.3</span><span class=\"tem-F is-hidden\">69</span></td><td class=\"is_show\" style=\"text-align:center;\">15:43</td><td class=\"is_show\">46695</td><td>彭佳嶼</td><td style=\"text-align:left;\">基隆市中正區彭佳嶼路2號</td></tr>,\n",
              " <tr><th scope=\"row\">臺北市</th><td class=\"is_show\" style=\"text-align:center;padding-right:20px\"><span class=\"tem-C is-active\">21.4</span><span class=\"tem-F is-hidden\">71</span></td><td class=\"is_show\" style=\"text-align:center;\">16:50</td><td class=\"is_show\">C0A9C</td><td>天母</td><td style=\"text-align:left;\">臺北市士林區天母東路116號(三玉國小)</td></tr>,\n",
              " <tr><th scope=\"row\">新北市</th><td class=\"is_show\" style=\"text-align:center;padding-right:20px\"><span class=\"tem-C is-active\">22.4</span><span class=\"tem-F is-hidden\">72</span></td><td class=\"is_show\" style=\"text-align:center;\">14:28</td><td class=\"is_show\">72AI4</td><td>桃改臺北</td><td style=\"text-align:left;\">新北市樹林區佳園路三段253號</td></tr>,\n",
              " <tr><th scope=\"row\">桃園市</th><td class=\"is_show\" style=\"text-align:center;padding-right:20px\"><span class=\"tem-C is-active\">21.6</span><span class=\"tem-F is-hidden\">71</span></td><td class=\"is_show\" style=\"text-align:center;\">14:25</td><td class=\"is_show\">A0C41</td><td>中央大學</td><td style=\"text-align:left;\">桃園市中壢區中大路300號</td></tr>,\n",
              " <tr><th scope=\"row\">新竹市</th><td class=\"is_show\" style=\"text-align:center;padding-right:20px\"><span class=\"tem-C is-active\">20.7</span><span class=\"tem-F is-hidden\">69</span></td><td class=\"is_show\" style=\"text-align:center;\">15:00</td><td class=\"is_show\">C0D66</td><td>新竹市東區</td><td style=\"text-align:left;\">新竹市東區光復路二段321號(工研院光復院區6館)</td></tr>,\n",
              " <tr><th scope=\"row\">新竹縣</th><td class=\"is_show\" style=\"text-align:center;padding-right:20px\"><span class=\"tem-C is-active\">21.0</span><span class=\"tem-F is-hidden\">70</span></td><td class=\"is_show\" style=\"text-align:center;\">14:24</td><td class=\"is_show\">CAD04</td><td>國一S088K</td><td style=\"text-align:left;\">新竹縣竹北市國道1號南向88.59K</td></tr>,\n",
              " <tr><th scope=\"row\">苗栗縣</th><td class=\"is_show\" style=\"text-align:center;padding-right:20px\"><span class=\"tem-C is-active\">21.3</span><span class=\"tem-F is-hidden\">70</span></td><td class=\"is_show\" style=\"text-align:center;\">12:40</td><td class=\"is_show\">C0E74</td><td>造橋</td><td style=\"text-align:left;\">苗栗縣造橋鄉造橋村14鄰3號(造橋國小)</td></tr>,\n",
              " <tr><th scope=\"row\" valign=\"top\">臺中市</th><td class=\"is_show\" style=\"text-align:center;padding-right:20px\"><span class=\"tem-C is-active\">21.5</span><span class=\"tem-F is-hidden\">71</span></td><td class=\"is_show\" style=\"text-align:center;\">12:30<br/>12:43<br/></td><td class=\"is_show\">C0F9S<br/>G2F82<br/></td><td>烏日<br/>農業試驗所<br/></td><td style=\"text-align:left;\">臺中市烏日區中山路二段196號(烏日國小)<br/>臺中市霧峰區萬豐里中正路189號<br/></td></tr>,\n",
              " <tr><th scope=\"row\">彰化縣</th><td class=\"is_show\" style=\"text-align:center;padding-right:20px\"><span class=\"tem-C is-active\">21.7</span><span class=\"tem-F is-hidden\">71</span></td><td class=\"is_show\" style=\"text-align:center;\">12:50</td><td class=\"is_show\">C0G65</td><td>員林</td><td style=\"text-align:left;\">彰化縣員林市萬年里明倫路2號(明倫國中)</td></tr>,\n",
              " <tr><th scope=\"row\">南投縣</th><td class=\"is_show\" style=\"text-align:center;padding-right:20px\"><span class=\"tem-C is-active\">21.8</span><span class=\"tem-F is-hidden\">71</span></td><td class=\"is_show\" style=\"text-align:center;\">14:20</td><td class=\"is_show\">C0H89</td><td>埔里</td><td style=\"text-align:left;\">南投縣埔里鎮大城里大城路169號(縣立大成國中)</td></tr>,\n",
              " <tr><th scope=\"row\">雲林縣</th><td class=\"is_show\" style=\"text-align:center;padding-right:20px\"><span class=\"tem-C is-active\">22.7</span><span class=\"tem-F is-hidden\">73</span></td><td class=\"is_show\" style=\"text-align:center;\">12:50</td><td class=\"is_show\">C0K28</td><td>四湖</td><td style=\"text-align:left;\">雲林縣四湖鄉湖西村中正路766號(四湖國中)</td></tr>,\n",
              " <tr><th scope=\"row\">嘉義市</th><td class=\"is_show\" style=\"text-align:center;padding-right:20px\"><span class=\"tem-C is-active\">22.3</span><span class=\"tem-F is-hidden\">72</span></td><td class=\"is_show\" style=\"text-align:center;\">13:00</td><td class=\"is_show\">C0M73</td><td>嘉義市東區</td><td style=\"text-align:left;\">嘉義市東區親水路123號(第5河川局水情中心)</td></tr>,\n",
              " <tr><th scope=\"row\">嘉義縣</th><td class=\"is_show\" style=\"text-align:center;padding-right:20px\"><span class=\"tem-C is-active\">22.5</span><span class=\"tem-F is-hidden\">73</span></td><td class=\"is_show\" style=\"text-align:center;\">13:49</td><td class=\"is_show\">72M36</td><td>義竹分場</td><td style=\"text-align:left;\">嘉義縣義竹鄉中平村中庄84號</td></tr>,\n",
              " <tr><th scope=\"row\">臺南市</th><td class=\"is_show\" style=\"text-align:center;padding-right:20px\"><span class=\"tem-C is-active\">23.2</span><span class=\"tem-F is-hidden\">74</span></td><td class=\"is_show\" style=\"text-align:center;\">12:40</td><td class=\"is_show\">C0X08</td><td>佳里</td><td style=\"text-align:left;\">臺南市佳里區(延平派出所附近)</td></tr>,\n",
              " <tr><th scope=\"row\">高雄市</th><td class=\"is_show\" style=\"text-align:center;padding-right:20px\"><span class=\"tem-C is-active\">24.0</span><span class=\"tem-F is-hidden\">75</span></td><td class=\"is_show\" style=\"text-align:center;\">15:10</td><td class=\"is_show\">C0V26</td><td>月眉</td><td style=\"text-align:left;\">高雄市杉林區月眉里山仙路1號(杉林區月眉段2181號、月眉農場)</td></tr>,\n",
              " <tr><th scope=\"row\">屏東縣</th><td class=\"is_show\" style=\"text-align:center;padding-right:20px\"><span class=\"tem-C is-active\">25.4</span><span class=\"tem-F is-hidden\">78</span></td><td class=\"is_show\" style=\"text-align:center;\">14:10</td><td class=\"is_show\">C0R81</td><td>內獅</td><td style=\"text-align:left;\">屏東縣獅子鄉內獅村1號(內獅國小)</td></tr>,\n",
              " <tr><th scope=\"row\">宜蘭縣</th><td class=\"is_show\" style=\"text-align:center;padding-right:20px\"><span class=\"tem-C is-active\">21.7</span><span class=\"tem-F is-hidden\">71</span></td><td class=\"is_show\" style=\"text-align:center;\">14:40</td><td class=\"is_show\">C0U94</td><td>羅東</td><td style=\"text-align:left;\">宜蘭縣羅東鎮羅東運動公園南側(北成路二段停車場旁自行車道入口)</td></tr>,\n",
              " <tr><th scope=\"row\" valign=\"top\">花蓮縣</th><td class=\"is_show\" style=\"text-align:center;padding-right:20px\"><span class=\"tem-C is-active\">20.3</span><span class=\"tem-F is-hidden\">69</span></td><td class=\"is_show\" style=\"text-align:center;\">15:10<br/>21:50<br/></td><td class=\"is_show\">C0Z23<br/>C0Z19<br/></td><td>和平<br/>富世<br/></td><td style=\"text-align:left;\">花蓮縣秀林鄉克來寶段399號(和平工業港安檢所綠洲分隊)<br/>花蓮縣秀林鄉富世村127號(富世國小)<br/></td></tr>,\n",
              " <tr><th scope=\"row\">臺東縣</th><td class=\"is_show\" style=\"text-align:center;padding-right:20px\"><span class=\"tem-C is-active\">24.8</span><span class=\"tem-F is-hidden\">77</span></td><td class=\"is_show\" style=\"text-align:center;\">22:00</td><td class=\"is_show\">C0S90</td><td>蘭嶼高中</td><td style=\"text-align:left;\">臺東縣蘭嶼鄉椰油村37號(蘭嶼高中內)</td></tr>,\n",
              " <tr><th scope=\"row\">澎湖縣</th><td class=\"is_show\" style=\"text-align:center;padding-right:20px\"><span class=\"tem-C is-active\">21.6</span><span class=\"tem-F is-hidden\">71</span></td><td class=\"is_show\" style=\"text-align:center;\">11:07</td><td class=\"is_show\">46730</td><td>東吉島</td><td style=\"text-align:left;\">澎湖縣望安鄉東吉村156號</td></tr>,\n",
              " <tr><th scope=\"row\">金門縣</th><td class=\"is_show\" style=\"text-align:center;padding-right:20px\"><span class=\"tem-C is-active\">16.0</span><span class=\"tem-F is-hidden\">61</span></td><td class=\"is_show\" style=\"text-align:center;\">22:46</td><td class=\"is_show\">A0W10</td><td>九宮碼頭</td><td style=\"text-align:left;\">金門縣烈嶼鄉(九宮碼頭售票亭)</td></tr>,\n",
              " <tr><th scope=\"row\">連江縣</th><td class=\"is_show\" style=\"text-align:center;padding-right:20px\"><span class=\"tem-C is-active\">12.6</span><span class=\"tem-F is-hidden\">55</span></td><td class=\"is_show\" style=\"text-align:center;\">22:00</td><td class=\"is_show\">C0W11</td><td>東莒</td><td style=\"text-align:left;\">連江縣莒光鄉福正村1號(莒光遊客中心)</td></tr>]"
            ]
          },
          "metadata": {},
          "execution_count": 14
        }
      ],
      "source": [
        "url = requests.get(\"https://www.cwb.gov.tw/V8/C/W/TemperatureTop/County_TMax_T.html\")\n",
        "req = BeautifulSoup(url.text,\"html.parser\")\n",
        "data = req.find_all(\"tr\")\n",
        "data\n",
        "# for d in req:\n",
        "#   print(d.find(\"th\").text)\n",
        "  # print(d.find(\"span\",{\"class\" : \"tem-C\"}).text)"
      ]
    }
  ]
}