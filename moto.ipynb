{
  "nbformat": 4,
  "nbformat_minor": 0,
  "metadata": {
    "colab": {
      "name": "Untitled0.ipynb",
      "provenance": [],
      "authorship_tag": "ABX9TyPmxhTrB5DinGx6idnovmAA",
      "include_colab_link": true
    },
    "kernelspec": {
      "name": "python3",
      "display_name": "Python 3"
    },
    "language_info": {
      "name": "python"
    }
  },
  "cells": [
    {
      "cell_type": "markdown",
      "metadata": {
        "id": "view-in-github",
        "colab_type": "text"
      },
      "source": [
        "<a href=\"https://colab.research.google.com/github/syuan0525/crawler/blob/main/moto.ipynb\" target=\"_parent\"><img src=\"https://colab.research.google.com/assets/colab-badge.svg\" alt=\"Open In Colab\"/></a>"
      ]
    },
    {
      "cell_type": "code",
      "metadata": {
        "id": "PGXHIpbAa7zP"
      },
      "source": [
        "from urllib.request import urlopen, Request, urlretrieve\n",
        "from bs4 import BeautifulSoup\n",
        "from urllib.error import HTTPError\n",
        "import pandas as pd"
      ],
      "execution_count": 1,
      "outputs": []
    },
    {
      "cell_type": "code",
      "metadata": {
        "id": "Uk3Q1AT1br_B"
      },
      "source": [
        "url = \"https://auto.8891.com.tw/search-usedauto.html?action=moto&b=1097&k=1134\"\n",
        "req = Request(url,headers={\n",
        "    \"user-agent\" : \"Mozilla/5.0 (Windows NT 10.0; Win64; x64) AppleWebKit/537.36 (KHTML, like Gecko) Chrome/94.0.4606.81 Safari/537.36\"\n",
        "  })\n",
        "response = urlopen(req)\n",
        "html = BeautifulSoup(response)\n",
        "html"
      ],
      "execution_count": null,
      "outputs": []
    },
    {
      "cell_type": "code",
      "metadata": {
        "colab": {
          "base_uri": "https://localhost:8080/"
        },
        "id": "USL8WlhLhWoh",
        "outputId": "9ea35b0a-69f6-4620-cfb2-e4c9f5479374"
      },
      "source": [
        "for m in html.find_all(\"span\",class_ = \"Blod\"):\n",
        "  print(m.text)"
      ],
      "execution_count": 16,
      "outputs": [
        {
          "output_type": "stream",
          "name": "stdout",
          "text": [
            "自售 2011 年GP125\n",
            "1.9\n",
            "2016年 GP 125\n",
            "2.7\n",
            "2012年 GP 125\n",
            "2.4\n",
            "2008年GP 125  碟剎\n",
            "2.3\n",
            "2008年 GP 125   化油版\n",
            "2.4\n",
            "2012年 GP 125\n",
            "3.1\n",
            "GP 125  美車一部  要買要快!!\n",
            "3.3\n",
            "2014年 GP 125 碟剎\n",
            "3.8\n",
            "2006年 GP 125\n",
            "2.2\n",
            "GP 125  優質代步車\n",
            "2.3\n",
            "2015年 GP 125\n",
            "4.8\n",
            "自售2005年光陽GP125 保證無改裝無事故沒摔..\n",
            "1.4\n",
            "2006年 GP 125\n",
            "2.7\n",
            "自售光陽GP 125 2006 年06月出廠  女用車蝶..\n",
            "2.8\n",
            "GP 125\n",
            "2.5\n",
            "自售  光陽 GP125，可相約看車\n",
            "3.7\n",
            "~~超值價~~出售~~光陽GP125\n",
            "3.9\n",
            "自售2012八成新GP125*可議價\n",
            "3.8\n",
            "GP 125  女用少騎  可相約看車\n",
            "4.2\n",
            "12年4 月領牌實跑2000, 鼓煞噴射版GP125,  ..\n",
            "4.8\n",
            "自售2009年出廠  光陽 GP 特仕版\n",
            "3.6\n",
            "自售光陽GP125\n",
            "4.7\n",
            "2008年光楊GP125 流當( 權利車) 便宜賣\n",
            "2.1\n",
            "( 自售)06 年光陽GP125\n",
            "3.8\n",
            "自售 2011 年 12 月出廠  最新款 KYMCO GP1..\n",
            "5.3\n",
            "2012年全新GP125 流當( 權利車)\n",
            "3.5\n",
            "2012年7 月出廠GP125 領牌流當權利車\n",
            "3.5\n",
            "試賣刊登剩2 天  室內車  新汽缸  車況沒問..\n",
            "6.1\n"
          ]
        }
      ]
    },
    {
      "cell_type": "code",
      "metadata": {
        "colab": {
          "base_uri": "https://localhost:8080/"
        },
        "id": "y_fqDDG_jaP2",
        "outputId": "47a6ec26-fdda-4265-8438-18cc54090a66"
      },
      "source": [
        "for i in html.find_all(\"a\",class_=\"InfoLink Ublue F9pt\"):\n",
        "  print(i[\"href\"],i[\"title\"])"
      ],
      "execution_count": 27,
      "outputs": [
        {
          "output_type": "stream",
          "name": "stdout",
          "text": [
            "/usedauto-motoInfos-2535147.html 自售 2011年GP125\n",
            "/usedauto-motoInfos-2269800.html 2016年 GP 125\n",
            "/usedauto-motoInfos-2231694.html 2012年 GP 125\n",
            "/usedauto-motoInfos-1603030.html 2008年GP 125 碟剎\n",
            "/usedauto-motoInfos-1544472.html 2008年 GP 125  化油版\n",
            "/usedauto-motoInfos-1482535.html 2012年 GP 125\n",
            "/usedauto-motoInfos-1498830.html GP 125 美車一部 要買要快!!\n",
            "/usedauto-motoInfos-1336736.html 2014年 GP 125 碟剎\n",
            "/usedauto-motoInfos-1317082.html 2006年 GP 125\n",
            "/usedauto-motoInfos-1057140.html GP 125 優質代步車\n",
            "/usedauto-motoInfos-1028809.html 2015年 GP 125\n",
            "/usedauto-motoInfos-1015267.html 自售2005年光陽GP125保證無改裝無事故沒摔過超好騎含過戶\n",
            "/usedauto-motoInfos-1011749.html 2006年 GP 125\n",
            "/usedauto-motoInfos-915013.html 自售光陽GP 125 2006年06月出廠 女用車蝶煞\n",
            "/usedauto-motoInfos-904436.html GP 125\n",
            "/usedauto-motoInfos-551433.html 自售 光陽 GP125，可相約看車\n",
            "/usedauto-motoInfos-404303.html ~~超值價~~出售~~光陽GP125\n",
            "/usedauto-motoInfos-397839.html 自售2012八成新GP125*可議價\n",
            "/usedauto-motoInfos-379966.html GP 125 女用少騎 可相約看車\n",
            "/usedauto-motoInfos-301491.html 12年4月領牌實跑2000, 鼓煞噴射版GP125, 全車無改無事故一手車!!\n",
            "/usedauto-motoInfos-290955.html 自售2009年出廠 光陽 GP特仕版\n",
            "/usedauto-motoInfos-257759.html 自售光陽GP125\n",
            "/usedauto-motoInfos-249126.html 2008年光楊GP125流當(權利車)便宜賣\n",
            "/usedauto-motoInfos-230277.html (自售)06年光陽GP125\n",
            "/usedauto-motoInfos-239956.html 自售 2011年 12月出廠 最新款 KYMCO GP125 碟煞(以補上圖片)\n",
            "/usedauto-motoInfos-222376.html 2012年全新GP125流當(權利車)\n",
            "/usedauto-motoInfos-196623.html 2012年7月出廠GP125領牌流當權利車\n",
            "/usedauto-motoInfos-182863.html 試賣刊登剩2天 室內車 新汽缸 車況沒問題\n"
          ]
        }
      ]
    }
  ]
}