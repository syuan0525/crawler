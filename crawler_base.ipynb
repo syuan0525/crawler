{
  "nbformat": 4,
  "nbformat_minor": 0,
  "metadata": {
    "colab": {
      "name": "crawler_base.ipynb",
      "provenance": [],
      "authorship_tag": "ABX9TyN/T9Ve/obbscIKFAvxCDBW",
      "include_colab_link": true
    },
    "kernelspec": {
      "name": "python3",
      "display_name": "Python 3"
    },
    "language_info": {
      "name": "python"
    }
  },
  "cells": [
    {
      "cell_type": "markdown",
      "metadata": {
        "id": "view-in-github",
        "colab_type": "text"
      },
      "source": [
        "<a href=\"https://colab.research.google.com/github/syuan0525/crawler/blob/main/crawler_base.ipynb\" target=\"_parent\"><img src=\"https://colab.research.google.com/assets/colab-badge.svg\" alt=\"Open In Colab\"/></a>"
      ]
    },
    {
      "cell_type": "code",
      "execution_count": 9,
      "metadata": {
        "id": "TiaM5LoNVPFN"
      },
      "outputs": [],
      "source": [
        "import requests\n",
        "import codecs"
      ]
    },
    {
      "cell_type": "code",
      "source": [
        "url = requests.get(\n",
        "    \"https://www.mol.gov.tw/1607/28162/28166/28168/\",\n",
        "    headers = {\n",
        "        \"user-agent\" : \"Mozilla/5.0 (Windows NT 10.0; Win64; x64) AppleWebKit/537.36 (KHTML, like Gecko) Chrome/96.0.4664.110 Safari/537.36\"\n",
        "    }\n",
        ")\n",
        "url"
      ],
      "metadata": {
        "colab": {
          "base_uri": "https://localhost:8080/"
        },
        "id": "Xqs_N7iuVrNw",
        "outputId": "cb290acc-cc8e-4e39-f426-229b6ad5b0b8"
      },
      "execution_count": 4,
      "outputs": [
        {
          "output_type": "execute_result",
          "data": {
            "text/plain": [
              "<Response [200]>"
            ]
          },
          "metadata": {},
          "execution_count": 4
        }
      ]
    },
    {
      "cell_type": "code",
      "source": [
        "for d in url.headers:\n",
        "  print(d, \":\", url.headers[d])"
      ],
      "metadata": {
        "colab": {
          "base_uri": "https://localhost:8080/"
        },
        "id": "dYhgYsXEX2x9",
        "outputId": "f9c82a05-1692-4dd6-d68b-f48beacee1a8"
      },
      "execution_count": 5,
      "outputs": [
        {
          "output_type": "stream",
          "name": "stdout",
          "text": [
            "Server : HiNetCDN/2108\n",
            "Date : Wed, 12 Jan 2022 08:20:00 GMT\n",
            "Content-Type : text/html; charset=utf-8\n",
            "Transfer-Encoding : chunked\n",
            "Connection : keep-alive\n",
            "Vary : Accept-Encoding\n",
            "Cache-Control : private\n",
            "X-Frame-Options : SAMEORIGIN\n",
            "Strict-Transport-Security : max-age=31536000; includeSubDomains\n",
            "X-XSS-Protection : 1; mode=block\n",
            "X-Content-Type-Options : nosniff\n",
            "Content-Security-Policy : default-src 'self' analytics.google.com stats.g.doubleclick.net www.google-analytics.com; font-src 'self' data:;img-src * data:; script-src 'self' 'unsafe-inline' 'unsafe-eval' www.googletagmanager.com www.gstatic.com cse.google.com www.google.com www.google-analytics.com *.facebook.net; style-src 'self' 'unsafe-inline' 'unsafe-eval' www.google.com; frame-src 'self' cse.google.com vars.hotjar.com *.facebook.com po.mol.gov.tw;\n",
            "Referrer-Policy : strict-origin\n",
            "Feature-Policy : vibrate 'self';\n",
            "X-Cache : MISS, EXPIRED\n",
            "x-request-id : 1ecd469a388c71dfc2ca83c9b9d6c6de\n",
            "Content-Encoding : gzip\n"
          ]
        }
      ]
    },
    {
      "cell_type": "code",
      "source": [
        "url.encoding"
      ],
      "metadata": {
        "colab": {
          "base_uri": "https://localhost:8080/",
          "height": 35
        },
        "id": "JQvbAASwYP7G",
        "outputId": "bae0ba03-0c14-4cd0-e839-e2945adcc503"
      },
      "execution_count": 6,
      "outputs": [
        {
          "output_type": "execute_result",
          "data": {
            "application/vnd.google.colaboratory.intrinsic+json": {
              "type": "string"
            },
            "text/plain": [
              "'utf-8'"
            ]
          },
          "metadata": {},
          "execution_count": 6
        }
      ]
    },
    {
      "cell_type": "code",
      "source": [
        "with codecs.open(\"1.html\",\"w\",url.encoding) as f:\n",
        "  f.write(url.text)\n",
        "# with codecs.open(\"1.svg\",\"wb\") as f:\n",
        "#   f.write(url2.content)"
      ],
      "metadata": {
        "id": "vNb4LLNsYkYa"
      },
      "execution_count": 11,
      "outputs": []
    },
    {
      "cell_type": "code",
      "source": [
        "url2 = requests.post(\n",
        "    \"http://teaching.bo-yuan.net/\",\n",
        "    headers = {\n",
        "        \"User-Agent\" : \"Mozilla/5.0 (Windows NT 10.0; Win64; x64) AppleWebKit/537.36 (KHTML, like Gecko) Chrome/96.0.4664.110 Safari/537.36\",\n",
        "        \"Cookie\": \"PHPSESSID=givpof6q1mi5dl5sfb36mllkkp\",\n",
        "        \"Host\": \"teaching.bo-yuan.net\",\n",
        "        \"Referer\": \"http://teaching.bo-yuan.net/\",\n",
        "        \"Upgrade-Insecure-Requests\": \"1\"\n",
        "    },\n",
        "    params = {\n",
        "        \"ex\" : \"login\"\n",
        "    },\n",
        "    data = {\n",
        "        \"ex[class]\" : \"618a1fe45b2d7\",\n",
        "        \"ex[username]\" : \"00示範\",\n",
        "        \"ex[password]\" : \"test\"\n",
        "    }\n",
        ")\n",
        "url2"
      ],
      "metadata": {
        "colab": {
          "base_uri": "https://localhost:8080/"
        },
        "id": "AnUurSkXbr5y",
        "outputId": "11c3c90c-5e92-4362-d7aa-0503643a4f66"
      },
      "execution_count": 29,
      "outputs": [
        {
          "output_type": "execute_result",
          "data": {
            "text/plain": [
              "<Response [200]>"
            ]
          },
          "metadata": {},
          "execution_count": 29
        }
      ]
    },
    {
      "cell_type": "code",
      "source": [
        "url3 = requests.get(\n",
        "    \"http://teaching.bo-yuan.net/\",\n",
        "    headers = {\n",
        "        \"User-Agent\" : \"Mozilla/5.0 (Windows NT 10.0; Win64; x64) AppleWebKit/537.36 (KHTML, like Gecko) Chrome/96.0.4664.110 Safari/537.36\",\n",
        "        \"Cookie\": \"PHPSESSID=givpof6q1mi5dl5sfb36mllkkp\",\n",
        "        \"Host\": \"teaching.bo-yuan.net\",\n",
        "        \"Referer\": \"http://teaching.bo-yuan.net/\",\n",
        "        \"Upgrade-Insecure-Requests\": \"1\"\n",
        "    },\n",
        "    params = {\n",
        "        \"ac1\" :\"courses\"\n",
        "    }\n",
        ")\n",
        "with codecs.open(\"2.html\",\"w\",url3.encoding) as f:\n",
        "  f.write(url3.text)"
      ],
      "metadata": {
        "id": "X4jvEIE6hS6V"
      },
      "execution_count": 30,
      "outputs": []
    }
  ]
}