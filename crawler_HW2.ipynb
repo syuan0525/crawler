{
  "nbformat": 4,
  "nbformat_minor": 0,
  "metadata": {
    "colab": {
      "name": "crawler_HW2.ipynb",
      "provenance": [],
      "authorship_tag": "ABX9TyMdaB3mhUyI8dzEjpYR0Mj0",
      "include_colab_link": true
    },
    "kernelspec": {
      "name": "python3",
      "display_name": "Python 3"
    },
    "language_info": {
      "name": "python"
    }
  },
  "cells": [
    {
      "cell_type": "markdown",
      "metadata": {
        "id": "view-in-github",
        "colab_type": "text"
      },
      "source": [
        "<a href=\"https://colab.research.google.com/github/syuan0525/crawler/blob/main/crawler_HW2.ipynb\" target=\"_parent\"><img src=\"https://colab.research.google.com/assets/colab-badge.svg\" alt=\"Open In Colab\"/></a>"
      ]
    },
    {
      "cell_type": "code",
      "source": [
        "!pip install prettytable"
      ],
      "metadata": {
        "colab": {
          "base_uri": "https://localhost:8080/"
        },
        "id": "3M5E5USl_zk2",
        "outputId": "a22f6435-627e-469b-90c3-fa39f2b8fb45"
      },
      "execution_count": 22,
      "outputs": [
        {
          "output_type": "stream",
          "name": "stdout",
          "text": [
            "Requirement already satisfied: prettytable in /usr/local/lib/python3.7/dist-packages (3.0.0)\n",
            "Requirement already satisfied: wcwidth in /usr/local/lib/python3.7/dist-packages (from prettytable) (0.2.5)\n",
            "Requirement already satisfied: importlib-metadata in /usr/local/lib/python3.7/dist-packages (from prettytable) (4.10.0)\n",
            "Requirement already satisfied: typing-extensions>=3.6.4 in /usr/local/lib/python3.7/dist-packages (from importlib-metadata->prettytable) (3.10.0.2)\n",
            "Requirement already satisfied: zipp>=0.5 in /usr/local/lib/python3.7/dist-packages (from importlib-metadata->prettytable) (3.7.0)\n"
          ]
        }
      ]
    },
    {
      "cell_type": "code",
      "source": [
        "import requests\n",
        "import json\n",
        "import prettytable\n",
        "from google.colab import output"
      ],
      "metadata": {
        "id": "LHn6_z1603as"
      },
      "execution_count": 32,
      "outputs": []
    },
    {
      "cell_type": "code",
      "execution_count": 30,
      "metadata": {
        "id": "R6zZOLw00yEu"
      },
      "outputs": [],
      "source": [
        "def search(prod_name,page):\n",
        "  url = requests.get(\n",
        "      \"https://ecshweb.pchome.com.tw/search/v3.3/all/results\",\n",
        "      params = {\n",
        "          \"q\" : prod_name,\n",
        "          \"page\" : page,\n",
        "          \"sort\" : \"sale/dc\"\n",
        "      }\n",
        ")  \n",
        "  data = json.loads(url.text)\n",
        "  table = prettytable.PrettyTable([\"名稱\",\"價格\"], encoding = \"utf-8\")\n",
        "  for d in data[\"prods\"]:\n",
        "    table.add_row([d[\"name\"],d[\"price\"]])\n",
        "  print(table)"
      ]
    },
    {
      "cell_type": "code",
      "source": [
        "prod_name = input(\"關鍵字: \")\n",
        "output.clear()\n",
        "search(prod_name,1)\n",
        "page = 1\n",
        "try:\n",
        "  while page != 0:\n",
        "      page = input(\"前往頁碼: \")\n",
        "      output.clear()\n",
        "      search(prod_name,page)\n",
        "except:\n",
        "  print(\" \")"
      ],
      "metadata": {
        "colab": {
          "base_uri": "https://localhost:8080/"
        },
        "id": "wjMDZEcLECNW",
        "outputId": "178883c7-3acc-45a3-da41-01d5ec320a1c"
      },
      "execution_count": 46,
      "outputs": [
        {
          "output_type": "stream",
          "name": "stdout",
          "text": [
            " \n"
          ]
        }
      ]
    }
  ]
}